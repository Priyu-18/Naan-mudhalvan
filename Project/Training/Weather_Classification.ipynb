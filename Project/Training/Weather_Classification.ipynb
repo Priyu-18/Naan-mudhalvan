{
  "cells": [
    {
      "attachments": {},
      "cell_type": "markdown",
      "metadata": {
        "id": "iS_s7Yf93SAO"
      },
      "source": [
        "DATA COLLECTION"
      ]
    },
    {
      "cell_type": "code",
      "execution_count": 20,
      "metadata": {
        "id": "MCEYTD4HKcn8"
      },
      "outputs": [],
      "source": [
        "from tensorflow.keras.applications.vgg19 import VGG19, preprocess_input\n",
        "from tensorflow.keras.layers import Flatten, Dense\n",
        "from tensorflow.keras.layers import Input\n",
        "from tensorflow.keras.preprocessing.image import ImageDataGenerator\n",
        "from PIL import ImageFile\n",
        "from tensorflow.keras.models import load_model\n",
        "from tensorflow.keras.preprocessing import image\n",
        "import keras\n",
        "import numpy as np"
      ]
    },
    {
      "cell_type": "code",
      "execution_count": 21,
      "metadata": {
        "id": "bqYlYJG8ZGZM"
      },
      "outputs": [],
      "source": [
        "from tensorflow.keras.preprocessing.image import ImageDataGenerator\n",
        "train_datagen = ImageDataGenerator(rescale = 1./255, shear_range = 0.2, zoom_range =[.99, 1.01], brightness_range = [0.8, 1.2],data_format=\"channels_last\",fill_mode=\"constant\",horizontal_flip = True)\n",
        "test_datagen = ImageDataGenerator(rescale = 1./255)"
      ]
    },
    {
      "attachments": {},
      "cell_type": "markdown",
      "metadata": {
        "id": "uT9Q5PWq3Ctw"
      },
      "source": [
        "IMAGE PREPROCESSING"
      ]
    },
    {
      "cell_type": "code",
      "execution_count": 22,
      "metadata": {
        "id": "3avAXmulsJDL"
      },
      "outputs": [],
      "source": [
        "from tensorflow.keras.applications.vgg19 import VGG19, preprocess_input \n",
        "from tensorflow.keras.layers import Flatten, Dense\n",
        "from tensorflow.keras.models import Model\n",
        "from tensorflow.keras.preprocessing.image import ImageDataGenerator\n",
        "from PIL import ImageFile\n",
        "from tensorflow.keras.models import load_model \n",
        "from tensorflow.keras.preprocessing import image\n",
        "import numpy as np"
      ]
    },
    {
      "cell_type": "code",
      "execution_count": 23,
      "metadata": {
        "id": "zvC_CEdUzIZb"
      },
      "outputs": [],
      "source": [
        "from tensorflow.keras.preprocessing.image import ImageDataGenerator \n",
        "train_datagen = ImageDataGenerator(rescale = 1./255, shear_range= 0.2, zoom_range = [.99, 1.01], brightness_range= [0.8, 1.2], data_format= \"channels_last\", fill_mode=\"constant\", horizontal_flip = True)\n",
        "test_datagen = ImageDataGenerator(rescale = 1./255)"
      ]
    },
    {
      "cell_type": "code",
      "execution_count": 33,
      "metadata": {
        "colab": {
          "base_uri": "https://localhost:8080/",
          "height": 395
        },
        "id": "8j-DSxQDzc7C",
        "outputId": "f8f5a294-811c-4e1c-be56-af5c51b00f54"
      },
      "outputs": [
        {
          "name": "stdout",
          "output_type": "stream",
          "text": [
            "Found 1530 images belonging to 6 classes.\n",
            "Found 1530 images belonging to 6 classes.\n"
          ]
        },
        {
          "data": {
            "text/plain": [
              "<keras.preprocessing.image.DirectoryIterator at 0x7f8545067090>"
            ]
          },
          "execution_count": 33,
          "metadata": {},
          "output_type": "execute_result"
        }
      ],
      "source": [
        "training_set = train_datagen.flow_from_directory('../dataset', target_size = (180, 180), batch_size = 64, class_mode = 'categorical')\n",
        "test_set = test_datagen.flow_from_directory('../dataset',target_size = (180, 180), batch_size = 64, class_mode = 'categorical')\n",
        "\n"
      ]
    },
    {
      "attachments": {},
      "cell_type": "markdown",
      "metadata": {
        "id": "xW5kj0Wt2xgY"
      },
      "source": [
        "MODEL BUILDING"
      ]
    },
    {
      "cell_type": "code",
      "execution_count": 25,
      "metadata": {
        "colab": {
          "base_uri": "https://localhost:8080/"
        },
        "id": "NmmXfDfSoK02",
        "outputId": "26c9a8d1-4af0-443b-ac70-a5bbfb66f767"
      },
      "outputs": [],
      "source": [
        "Image_SIZE = [180, 180]\n",
        "VGG19 = VGG19(input_shape = Image_SIZE +[3],weights = 'imagenet',include_top = False )"
      ]
    },
    {
      "cell_type": "code",
      "execution_count": 26,
      "metadata": {
        "id": "a3GWsOFlo5D-"
      },
      "outputs": [],
      "source": [
        "for layer in VGG19.layers:\n",
        "  layer.trainable = False\n",
        "x = Flatten()(VGG19.output)\n",
        "prediction = Dense(6, activation = 'softmax')(x)\n",
        "model = Model(inputs = VGG19.input, outputs = prediction)"
      ]
    },
    {
      "cell_type": "code",
      "execution_count": 27,
      "metadata": {
        "id": "Oyj9J48D5t8a"
      },
      "outputs": [],
      "source": [
        "model.compile(optimizer=\"sgd\",\n",
        "              loss=\"categorical_crossentropy\",\n",
        "              metrics=[keras.metrics.Precision(), keras.metrics.Recall(), keras.metrics.SpecificityAtSensitivity(0.5), keras.metrics.SensitivityAtSpecificity(0.5), 'accuracy'])"
      ]
    },
    {
      "cell_type": "code",
      "execution_count": 28,
      "metadata": {
        "colab": {
          "base_uri": "https://localhost:8080/"
        },
        "id": "XydqRljeuxeC",
        "outputId": "860dbc91-ac93-42b8-b57e-6e3deff0fdce"
      },
      "outputs": [
        {
          "name": "stdout",
          "output_type": "stream",
          "text": [
            "Epoch 1/5\n"
          ]
        },
        {
          "name": "stderr",
          "output_type": "stream",
          "text": [
            "2023-05-20 01:01:33.009350: I tensorflow/core/common_runtime/executor.cc:1197] [/device:CPU:0] (DEBUG INFO) Executor start aborting (this does not indicate an error and you can ignore this message): INVALID_ARGUMENT: You must feed a value for placeholder tensor 'Placeholder/_0' with dtype int32\n",
            "\t [[{{node Placeholder/_0}}]]\n"
          ]
        },
        {
          "name": "stdout",
          "output_type": "stream",
          "text": [
            "24/24 [==============================] - ETA: 0s - loss: 9.3950 - precision: 0.2273 - recall: 0.2111 - specificity_at_sensitivity: 0.0000e+00 - sensitivity_at_specificity: 0.4680 - accuracy: 0.2222 "
          ]
        },
        {
          "name": "stderr",
          "output_type": "stream",
          "text": [
            "2023-05-20 01:05:59.952824: I tensorflow/core/common_runtime/executor.cc:1197] [/device:CPU:0] (DEBUG INFO) Executor start aborting (this does not indicate an error and you can ignore this message): INVALID_ARGUMENT: You must feed a value for placeholder tensor 'Placeholder/_0' with dtype int32\n",
            "\t [[{{node Placeholder/_0}}]]\n"
          ]
        },
        {
          "name": "stdout",
          "output_type": "stream",
          "text": [
            "24/24 [==============================] - 528s 22s/step - loss: 9.3950 - precision: 0.2273 - recall: 0.2111 - specificity_at_sensitivity: 0.0000e+00 - sensitivity_at_specificity: 0.4680 - accuracy: 0.2222 - val_loss: 10.1884 - val_precision: 0.1961 - val_recall: 0.1961 - val_specificity_at_sensitivity: 0.0000e+00 - val_sensitivity_at_specificity: 0.2856 - val_accuracy: 0.1961\n",
            "Epoch 2/5\n",
            "24/24 [==============================] - 542s 23s/step - loss: 10.0466 - precision: 0.2413 - recall: 0.2392 - specificity_at_sensitivity: 0.0000e+00 - sensitivity_at_specificity: 0.4582 - accuracy: 0.2405 - val_loss: 8.3760 - val_precision: 0.4271 - val_recall: 0.4229 - val_specificity_at_sensitivity: 0.7736 - val_sensitivity_at_specificity: 0.5529 - val_accuracy: 0.4248\n",
            "Epoch 3/5\n",
            "24/24 [==============================] - 595s 25s/step - loss: 5.0018 - precision: 0.3902 - recall: 0.3634 - specificity_at_sensitivity: 0.8068 - sensitivity_at_specificity: 0.6601 - accuracy: 0.3791 - val_loss: 4.3609 - val_precision: 0.4909 - val_recall: 0.4418 - val_specificity_at_sensitivity: 0.8505 - val_sensitivity_at_specificity: 0.5869 - val_accuracy: 0.4582\n",
            "Epoch 4/5\n",
            "24/24 [==============================] - 525s 22s/step - loss: 3.5962 - precision: 0.5061 - recall: 0.4601 - specificity_at_sensitivity: 0.8894 - sensitivity_at_specificity: 0.7575 - accuracy: 0.4850 - val_loss: 1.3558 - val_precision: 0.6368 - val_recall: 0.5706 - val_specificity_at_sensitivity: 0.9591 - val_sensitivity_at_specificity: 0.9379 - val_accuracy: 0.6020\n",
            "Epoch 5/5\n",
            "24/24 [==============================] - 524s 22s/step - loss: 3.4248 - precision: 0.5052 - recall: 0.4765 - specificity_at_sensitivity: 0.8992 - sensitivity_at_specificity: 0.7516 - accuracy: 0.4961 - val_loss: 1.8347 - val_precision: 0.5155 - val_recall: 0.4895 - val_specificity_at_sensitivity: 0.9033 - val_sensitivity_at_specificity: 0.9078 - val_accuracy: 0.5052\n"
          ]
        }
      ],
      "source": [
        "r = model.fit(\n",
        "    training_set,\n",
        "    validation_data=test_set,\n",
        "    epochs=5,\n",
        "    steps_per_epoch=len(training_set),\n",
        "    validation_steps=len(test_set)\n",
        ")"
      ]
    },
    {
      "cell_type": "code",
      "execution_count": 30,
      "metadata": {
        "colab": {
          "base_uri": "https://localhost:8080/",
          "height": 272
        },
        "id": "FpFff-mQfYiV",
        "outputId": "609317b5-7ff9-439c-d66d-ccfd4618e021"
      },
      "outputs": [
        {
          "name": "stderr",
          "output_type": "stream",
          "text": [
            "2023-05-20 01:52:26.814284: I tensorflow/core/common_runtime/executor.cc:1197] [/device:CPU:0] (DEBUG INFO) Executor start aborting (this does not indicate an error and you can ignore this message): INVALID_ARGUMENT: You must feed a value for placeholder tensor 'Placeholder/_0' with dtype int32\n",
            "\t [[{{node Placeholder/_0}}]]\n"
          ]
        },
        {
          "name": "stdout",
          "output_type": "stream",
          "text": [
            "11/11 - 122s - loss: 1.9423 - precision: 0.4836 - recall: 0.4602 - specificity_at_sensitivity: 0.8886 - sensitivity_at_specificity: 0.9105 - accuracy: 0.4787 - 122s/epoch - 11s/step\n",
            "Model performance on test images:\n",
            "Accuracy = {accuracy}\n",
            "Loss = {loss}\n"
          ]
        }
      ],
      "source": [
        "result= model.evaluate(test_set,\n",
        "                               steps = 11,\n",
        "                               verbose = 2,\n",
        "                               use_multiprocessing = True,\n",
        "                               workers = 2)\n",
        "loss = result[0]\n",
        "accuracy = result[1]\n",
        "print('Model performance on test images:\\nAccuracy = {accuracy}\\nLoss = {loss}')"
      ]
    },
    {
      "cell_type": "code",
      "execution_count": 31,
      "metadata": {
        "id": "z7sw3ktYo8_O"
      },
      "outputs": [],
      "source": [
        "model.save('WCV.h5')"
      ]
    },
    {
      "cell_type": "code",
      "execution_count": 32,
      "metadata": {
        "id": "dYSE2hWzpLNB"
      },
      "outputs": [],
      "source": [
        "from tensorflow.keras.models import load_model\n",
        "from tensorflow.keras.preprocessing import image\n",
        "import numpy as np\n",
        "model = load_model('./WCV.h5')"
      ]
    }
  ],
  "metadata": {
    "colab": {
      "provenance": []
    },
    "kernelspec": {
      "display_name": "Python 3",
      "name": "python3"
    },
    "language_info": {
      "codemirror_mode": {
        "name": "ipython",
        "version": 3
      },
      "file_extension": ".py",
      "mimetype": "text/x-python",
      "name": "python",
      "nbconvert_exporter": "python",
      "pygments_lexer": "ipython3",
      "version": "3.11.3"
    }
  },
  "nbformat": 4,
  "nbformat_minor": 0
}
