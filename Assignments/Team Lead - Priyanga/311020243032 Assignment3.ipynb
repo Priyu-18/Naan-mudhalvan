{
  "nbformat": 4,
  "nbformat_minor": 0,
  "metadata": {
    "colab": {
      "provenance": []
    },
    "kernelspec": {
      "name": "python3",
      "display_name": "Python 3"
    },
    "language_info": {
      "name": "python"
    }
  },
  "cells": [
    {
      "cell_type": "code",
      "execution_count": 1,
      "metadata": {
        "id": "HHWBATFqPz-P"
      },
      "outputs": [],
      "source": [
        "import tensorflow as tf\n",
        "from tensorflow.keras.preprocessing.image import ImageDataGenerator"
      ]
    },
    {
      "cell_type": "markdown",
      "source": [
        "Augmentation"
      ],
      "metadata": {
        "id": "fH5_HByBvBmd"
      }
    },
    {
      "cell_type": "code",
      "source": [
        "data_aug = ImageDataGenerator(\n",
        "    rescale =1./255,\n",
        "    rotation_range=20,\n",
        "    width_shift_range=0.2,\n",
        "    height_shift_range=0.2,\n",
        "    shear_range=0.2,\n",
        "    zoom_range=0.2,\n",
        "    horizontal_flip=True,\n",
        "    fill_mode='nearest'\n",
        ")    "
      ],
      "metadata": {
        "id": "EnQ_cgmnvCzl"
      },
      "execution_count": 2,
      "outputs": []
    },
    {
      "cell_type": "code",
      "source": [
        "train_data=data_aug.flow_from_directory('/content/drive/MyDrive/animals',target_size=(128,128),batch_size=32,class_mode='categorical')"
      ],
      "metadata": {
        "colab": {
          "base_uri": "https://localhost:8080/"
        },
        "id": "p1-mjcRfvHwc",
        "outputId": "37cdced5-d412-4329-ff38-0acbcf41041c"
      },
      "execution_count": 3,
      "outputs": [
        {
          "output_type": "stream",
          "name": "stdout",
          "text": [
            "Found 133 images belonging to 1 classes.\n"
          ]
        }
      ]
    },
    {
      "cell_type": "markdown",
      "source": [
        "CNN"
      ],
      "metadata": {
        "id": "kvPY-7-37MEE"
      }
    },
    {
      "cell_type": "code",
      "source": [
        "model=tf.keras.models.Sequential([tf.keras.layers.Input(shape=(128,128,3)),\n",
        "                                  tf.keras.layers.Conv2D(64,(3,3),activation='relu'),\n",
        "                                  tf.keras.layers.MaxPooling2D((2,2)),\n",
        "                                  tf.keras.layers.Flatten(),\n",
        "                                  tf.keras.layers.Dense(64,activation='relu'),\n",
        "                                  tf.keras.layers.Dense(32,activation='relu'),\n",
        "                                  tf.keras.layers.Dense(90,activation='softmax')])"
      ],
      "metadata": {
        "id": "Nz16JwyT7F52"
      },
      "execution_count": 4,
      "outputs": []
    },
    {
      "cell_type": "code",
      "source": [
        "model.compile(optimizer='adam',loss='categorical_crossentropy',metrics=['accuracy'])"
      ],
      "metadata": {
        "id": "_sot-SXz7WsN"
      },
      "execution_count": 5,
      "outputs": []
    },
    {
      "cell_type": "code",
      "source": [
        "model.fit(train_data,epochs=4)"
      ],
      "metadata": {
        "id": "27BuG_7D7Yal",
        "colab": {
          "base_uri": "https://localhost:8080/"
        },
        "outputId": "2a5a4625-413e-49a7-baf3-bbdc29a2e363"
      },
      "execution_count": 6,
      "outputs": [
        {
          "output_type": "stream",
          "name": "stdout",
          "text": [
            "Epoch 1/4\n",
            "5/5 [==============================] - 44s 10s/step - loss: 5540.6118 - accuracy: 0.0000e+00\n",
            "Epoch 2/4\n",
            "5/5 [==============================] - 8s 2s/step - loss: 27127.3945 - accuracy: 0.0000e+00\n",
            "Epoch 3/4\n",
            "5/5 [==============================] - 10s 2s/step - loss: 66561.4297 - accuracy: 0.0000e+00\n",
            "Epoch 4/4\n",
            "5/5 [==============================] - 9s 2s/step - loss: 125609.7656 - accuracy: 0.0000e+00\n"
          ]
        },
        {
          "output_type": "execute_result",
          "data": {
            "text/plain": [
              "<keras.callbacks.History at 0x7f4c945f8580>"
            ]
          },
          "metadata": {},
          "execution_count": 6
        }
      ]
    },
    {
      "cell_type": "markdown",
      "source": [
        "New Section"
      ],
      "metadata": {
        "id": "3xJwDjbU7g48"
      }
    },
    {
      "cell_type": "code",
      "source": [
        "val_data=ImageDataGenerator(rescale=1./255)\n",
        "val_generator=val_data.flow_from_directory('/content/drive/MyDrive/animals',target_size=(128,128),batch_size=32,class_mode='categorical')"
      ],
      "metadata": {
        "colab": {
          "base_uri": "https://localhost:8080/"
        },
        "id": "DqRW274g7h7Z",
        "outputId": "1465abc6-8885-400a-84b3-e9ac758cae20"
      },
      "execution_count": 7,
      "outputs": [
        {
          "output_type": "stream",
          "name": "stdout",
          "text": [
            "Found 133 images belonging to 1 classes.\n"
          ]
        }
      ]
    },
    {
      "cell_type": "code",
      "source": [
        "model.evaluate(val_generator)"
      ],
      "metadata": {
        "colab": {
          "base_uri": "https://localhost:8080/"
        },
        "id": "tTjMBlCL7mW5",
        "outputId": "13fa4d1e-bfa1-464e-81f8-4022c8447821"
      },
      "execution_count": null,
      "outputs": [
        {
          "output_type": "stream",
          "name": "stdout",
          "text": [
            "5/5 [==============================] - 25s 5s/step - loss: 405.0621 - accuracy: 0.0000e+00\n"
          ]
        },
        {
          "output_type": "execute_result",
          "data": {
            "text/plain": [
              "[405.0621032714844, 0.0]"
            ]
          },
          "metadata": {},
          "execution_count": 14
        }
      ]
    }
  ]
}