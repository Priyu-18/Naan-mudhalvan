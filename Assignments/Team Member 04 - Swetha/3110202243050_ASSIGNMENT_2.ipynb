{
  "cells": [
    {
      "cell_type": "markdown",
      "source": [
        "# **NAAN MUDHALVAN**\n",
        "\n",
        "REGISTER NO - 311020243050\n",
        "\n",
        "NAME - SWETHA M\n",
        "\n",
        "KCG COLLEGE OF TECHNOLOGY"
      ],
      "metadata": {
        "id": "PqPujuuz344C"
      },
      "id": "PqPujuuz344C"
    },
    {
      "cell_type": "code",
      "source": [
        "#Preprocessing the dataset\n",
        "\n",
        "import numpy as np\n",
        "import matplotlib.pyplot as plt\n",
        "import pandas as pd"
      ],
      "metadata": {
        "id": "xTKopDFo38At"
      },
      "id": "xTKopDFo38At",
      "execution_count": null,
      "outputs": []
    },
    {
      "cell_type": "code",
      "execution_count": null,
      "id": "772ab57f",
      "metadata": {
        "id": "772ab57f"
      },
      "outputs": [],
      "source": [
        "d=pd.read_csv(\"C:\\\\Users\\\\Dharshan\\\\Desktop\\\\House Price India.csv\")\n"
      ]
    },
    {
      "cell_type": "code",
      "execution_count": null,
      "id": "704b2fdb",
      "metadata": {
        "id": "704b2fdb",
        "outputId": "2646fef7-7b9f-44af-909b-211784e8211d"
      },
      "outputs": [
        {
          "data": {
            "text/html": [
              "<div>\n",
              "<style scoped>\n",
              "    .dataframe tbody tr th:only-of-type {\n",
              "        vertical-align: middle;\n",
              "    }\n",
              "\n",
              "    .dataframe tbody tr th {\n",
              "        vertical-align: top;\n",
              "    }\n",
              "\n",
              "    .dataframe thead th {\n",
              "        text-align: right;\n",
              "    }\n",
              "</style>\n",
              "<table border=\"1\" class=\"dataframe\">\n",
              "  <thead>\n",
              "    <tr style=\"text-align: right;\">\n",
              "      <th></th>\n",
              "      <th>id</th>\n",
              "      <th>Date</th>\n",
              "      <th>number of bedrooms</th>\n",
              "      <th>number of bathrooms</th>\n",
              "      <th>living area</th>\n",
              "      <th>lot area</th>\n",
              "      <th>number of floors</th>\n",
              "      <th>waterfront present</th>\n",
              "      <th>number of views</th>\n",
              "      <th>condition of the house</th>\n",
              "      <th>...</th>\n",
              "      <th>Built Year</th>\n",
              "      <th>Renovation Year</th>\n",
              "      <th>Postal Code</th>\n",
              "      <th>Lattitude</th>\n",
              "      <th>Longitude</th>\n",
              "      <th>living_area_renov</th>\n",
              "      <th>lot_area_renov</th>\n",
              "      <th>Number of schools nearby</th>\n",
              "      <th>Distance from the airport</th>\n",
              "      <th>Price</th>\n",
              "    </tr>\n",
              "  </thead>\n",
              "  <tbody>\n",
              "    <tr>\n",
              "      <th>count</th>\n",
              "      <td>1.462000e+04</td>\n",
              "      <td>14620.000000</td>\n",
              "      <td>14620.000000</td>\n",
              "      <td>14620.000000</td>\n",
              "      <td>14620.000000</td>\n",
              "      <td>1.462000e+04</td>\n",
              "      <td>14620.000000</td>\n",
              "      <td>14620.000000</td>\n",
              "      <td>14620.000000</td>\n",
              "      <td>14620.000000</td>\n",
              "      <td>...</td>\n",
              "      <td>14620.000000</td>\n",
              "      <td>14620.000000</td>\n",
              "      <td>14620.000000</td>\n",
              "      <td>14620.000000</td>\n",
              "      <td>14620.000000</td>\n",
              "      <td>14620.000000</td>\n",
              "      <td>14620.000000</td>\n",
              "      <td>14620.000000</td>\n",
              "      <td>14620.000000</td>\n",
              "      <td>1.462000e+04</td>\n",
              "    </tr>\n",
              "    <tr>\n",
              "      <th>mean</th>\n",
              "      <td>6.762821e+09</td>\n",
              "      <td>42604.538646</td>\n",
              "      <td>3.379343</td>\n",
              "      <td>2.129583</td>\n",
              "      <td>2098.262996</td>\n",
              "      <td>1.509328e+04</td>\n",
              "      <td>1.502360</td>\n",
              "      <td>0.007661</td>\n",
              "      <td>0.233105</td>\n",
              "      <td>3.430506</td>\n",
              "      <td>...</td>\n",
              "      <td>1970.926402</td>\n",
              "      <td>90.924008</td>\n",
              "      <td>122033.062244</td>\n",
              "      <td>52.792848</td>\n",
              "      <td>-114.404007</td>\n",
              "      <td>1996.702257</td>\n",
              "      <td>12753.500068</td>\n",
              "      <td>2.012244</td>\n",
              "      <td>64.950958</td>\n",
              "      <td>5.389322e+05</td>\n",
              "    </tr>\n",
              "    <tr>\n",
              "      <th>std</th>\n",
              "      <td>6.237575e+03</td>\n",
              "      <td>67.347991</td>\n",
              "      <td>0.938719</td>\n",
              "      <td>0.769934</td>\n",
              "      <td>928.275721</td>\n",
              "      <td>3.791962e+04</td>\n",
              "      <td>0.540239</td>\n",
              "      <td>0.087193</td>\n",
              "      <td>0.766259</td>\n",
              "      <td>0.664151</td>\n",
              "      <td>...</td>\n",
              "      <td>29.493625</td>\n",
              "      <td>416.216661</td>\n",
              "      <td>19.082418</td>\n",
              "      <td>0.137522</td>\n",
              "      <td>0.141326</td>\n",
              "      <td>691.093366</td>\n",
              "      <td>26058.414467</td>\n",
              "      <td>0.817284</td>\n",
              "      <td>8.936008</td>\n",
              "      <td>3.675324e+05</td>\n",
              "    </tr>\n",
              "    <tr>\n",
              "      <th>min</th>\n",
              "      <td>6.762810e+09</td>\n",
              "      <td>42491.000000</td>\n",
              "      <td>1.000000</td>\n",
              "      <td>0.500000</td>\n",
              "      <td>370.000000</td>\n",
              "      <td>5.200000e+02</td>\n",
              "      <td>1.000000</td>\n",
              "      <td>0.000000</td>\n",
              "      <td>0.000000</td>\n",
              "      <td>1.000000</td>\n",
              "      <td>...</td>\n",
              "      <td>1900.000000</td>\n",
              "      <td>0.000000</td>\n",
              "      <td>122003.000000</td>\n",
              "      <td>52.385900</td>\n",
              "      <td>-114.709000</td>\n",
              "      <td>460.000000</td>\n",
              "      <td>651.000000</td>\n",
              "      <td>1.000000</td>\n",
              "      <td>50.000000</td>\n",
              "      <td>7.800000e+04</td>\n",
              "    </tr>\n",
              "    <tr>\n",
              "      <th>25%</th>\n",
              "      <td>6.762815e+09</td>\n",
              "      <td>42546.000000</td>\n",
              "      <td>3.000000</td>\n",
              "      <td>1.750000</td>\n",
              "      <td>1440.000000</td>\n",
              "      <td>5.010750e+03</td>\n",
              "      <td>1.000000</td>\n",
              "      <td>0.000000</td>\n",
              "      <td>0.000000</td>\n",
              "      <td>3.000000</td>\n",
              "      <td>...</td>\n",
              "      <td>1951.000000</td>\n",
              "      <td>0.000000</td>\n",
              "      <td>122017.000000</td>\n",
              "      <td>52.707600</td>\n",
              "      <td>-114.519000</td>\n",
              "      <td>1490.000000</td>\n",
              "      <td>5097.750000</td>\n",
              "      <td>1.000000</td>\n",
              "      <td>57.000000</td>\n",
              "      <td>3.200000e+05</td>\n",
              "    </tr>\n",
              "    <tr>\n",
              "      <th>50%</th>\n",
              "      <td>6.762821e+09</td>\n",
              "      <td>42600.000000</td>\n",
              "      <td>3.000000</td>\n",
              "      <td>2.250000</td>\n",
              "      <td>1930.000000</td>\n",
              "      <td>7.620000e+03</td>\n",
              "      <td>1.500000</td>\n",
              "      <td>0.000000</td>\n",
              "      <td>0.000000</td>\n",
              "      <td>3.000000</td>\n",
              "      <td>...</td>\n",
              "      <td>1975.000000</td>\n",
              "      <td>0.000000</td>\n",
              "      <td>122032.000000</td>\n",
              "      <td>52.806400</td>\n",
              "      <td>-114.421000</td>\n",
              "      <td>1850.000000</td>\n",
              "      <td>7620.000000</td>\n",
              "      <td>2.000000</td>\n",
              "      <td>65.000000</td>\n",
              "      <td>4.500000e+05</td>\n",
              "    </tr>\n",
              "    <tr>\n",
              "      <th>75%</th>\n",
              "      <td>6.762826e+09</td>\n",
              "      <td>42662.000000</td>\n",
              "      <td>4.000000</td>\n",
              "      <td>2.500000</td>\n",
              "      <td>2570.000000</td>\n",
              "      <td>1.080000e+04</td>\n",
              "      <td>2.000000</td>\n",
              "      <td>0.000000</td>\n",
              "      <td>0.000000</td>\n",
              "      <td>4.000000</td>\n",
              "      <td>...</td>\n",
              "      <td>1997.000000</td>\n",
              "      <td>0.000000</td>\n",
              "      <td>122048.000000</td>\n",
              "      <td>52.908900</td>\n",
              "      <td>-114.315000</td>\n",
              "      <td>2380.000000</td>\n",
              "      <td>10125.000000</td>\n",
              "      <td>3.000000</td>\n",
              "      <td>73.000000</td>\n",
              "      <td>6.450000e+05</td>\n",
              "    </tr>\n",
              "    <tr>\n",
              "      <th>max</th>\n",
              "      <td>6.762832e+09</td>\n",
              "      <td>42734.000000</td>\n",
              "      <td>33.000000</td>\n",
              "      <td>8.000000</td>\n",
              "      <td>13540.000000</td>\n",
              "      <td>1.074218e+06</td>\n",
              "      <td>3.500000</td>\n",
              "      <td>1.000000</td>\n",
              "      <td>4.000000</td>\n",
              "      <td>5.000000</td>\n",
              "      <td>...</td>\n",
              "      <td>2015.000000</td>\n",
              "      <td>2015.000000</td>\n",
              "      <td>122072.000000</td>\n",
              "      <td>53.007600</td>\n",
              "      <td>-113.505000</td>\n",
              "      <td>6110.000000</td>\n",
              "      <td>560617.000000</td>\n",
              "      <td>3.000000</td>\n",
              "      <td>80.000000</td>\n",
              "      <td>7.700000e+06</td>\n",
              "    </tr>\n",
              "  </tbody>\n",
              "</table>\n",
              "<p>8 rows × 23 columns</p>\n",
              "</div>"
            ],
            "text/plain": [
              "                 id          Date  number of bedrooms  number of bathrooms  \\\n",
              "count  1.462000e+04  14620.000000        14620.000000         14620.000000   \n",
              "mean   6.762821e+09  42604.538646            3.379343             2.129583   \n",
              "std    6.237575e+03     67.347991            0.938719             0.769934   \n",
              "min    6.762810e+09  42491.000000            1.000000             0.500000   \n",
              "25%    6.762815e+09  42546.000000            3.000000             1.750000   \n",
              "50%    6.762821e+09  42600.000000            3.000000             2.250000   \n",
              "75%    6.762826e+09  42662.000000            4.000000             2.500000   \n",
              "max    6.762832e+09  42734.000000           33.000000             8.000000   \n",
              "\n",
              "        living area      lot area  number of floors  waterfront present  \\\n",
              "count  14620.000000  1.462000e+04      14620.000000        14620.000000   \n",
              "mean    2098.262996  1.509328e+04          1.502360            0.007661   \n",
              "std      928.275721  3.791962e+04          0.540239            0.087193   \n",
              "min      370.000000  5.200000e+02          1.000000            0.000000   \n",
              "25%     1440.000000  5.010750e+03          1.000000            0.000000   \n",
              "50%     1930.000000  7.620000e+03          1.500000            0.000000   \n",
              "75%     2570.000000  1.080000e+04          2.000000            0.000000   \n",
              "max    13540.000000  1.074218e+06          3.500000            1.000000   \n",
              "\n",
              "       number of views  condition of the house  ...    Built Year  \\\n",
              "count     14620.000000            14620.000000  ...  14620.000000   \n",
              "mean          0.233105                3.430506  ...   1970.926402   \n",
              "std           0.766259                0.664151  ...     29.493625   \n",
              "min           0.000000                1.000000  ...   1900.000000   \n",
              "25%           0.000000                3.000000  ...   1951.000000   \n",
              "50%           0.000000                3.000000  ...   1975.000000   \n",
              "75%           0.000000                4.000000  ...   1997.000000   \n",
              "max           4.000000                5.000000  ...   2015.000000   \n",
              "\n",
              "       Renovation Year    Postal Code     Lattitude     Longitude  \\\n",
              "count     14620.000000   14620.000000  14620.000000  14620.000000   \n",
              "mean         90.924008  122033.062244     52.792848   -114.404007   \n",
              "std         416.216661      19.082418      0.137522      0.141326   \n",
              "min           0.000000  122003.000000     52.385900   -114.709000   \n",
              "25%           0.000000  122017.000000     52.707600   -114.519000   \n",
              "50%           0.000000  122032.000000     52.806400   -114.421000   \n",
              "75%           0.000000  122048.000000     52.908900   -114.315000   \n",
              "max        2015.000000  122072.000000     53.007600   -113.505000   \n",
              "\n",
              "       living_area_renov  lot_area_renov  Number of schools nearby  \\\n",
              "count       14620.000000    14620.000000              14620.000000   \n",
              "mean         1996.702257    12753.500068                  2.012244   \n",
              "std           691.093366    26058.414467                  0.817284   \n",
              "min           460.000000      651.000000                  1.000000   \n",
              "25%          1490.000000     5097.750000                  1.000000   \n",
              "50%          1850.000000     7620.000000                  2.000000   \n",
              "75%          2380.000000    10125.000000                  3.000000   \n",
              "max          6110.000000   560617.000000                  3.000000   \n",
              "\n",
              "       Distance from the airport         Price  \n",
              "count               14620.000000  1.462000e+04  \n",
              "mean                   64.950958  5.389322e+05  \n",
              "std                     8.936008  3.675324e+05  \n",
              "min                    50.000000  7.800000e+04  \n",
              "25%                    57.000000  3.200000e+05  \n",
              "50%                    65.000000  4.500000e+05  \n",
              "75%                    73.000000  6.450000e+05  \n",
              "max                    80.000000  7.700000e+06  \n",
              "\n",
              "[8 rows x 23 columns]"
            ]
          },
          "execution_count": 3,
          "metadata": {},
          "output_type": "execute_result"
        }
      ],
      "source": [
        "d.describe()"
      ]
    },
    {
      "cell_type": "code",
      "execution_count": null,
      "id": "4b7c1637",
      "metadata": {
        "id": "4b7c1637"
      },
      "outputs": [],
      "source": [
        "df=d.dropna()"
      ]
    },
    {
      "cell_type": "code",
      "execution_count": null,
      "id": "0c295abe",
      "metadata": {
        "id": "0c295abe",
        "outputId": "e0714d92-15a4-4bfb-d557-f01ff803c29e"
      },
      "outputs": [
        {
          "data": {
            "text/plain": [
              "id                                       0\n",
              "Date                                     0\n",
              "number of bedrooms                       0\n",
              "number of bathrooms                      0\n",
              "living area                              0\n",
              "lot area                                 0\n",
              "number of floors                         0\n",
              "waterfront present                       0\n",
              "number of views                          0\n",
              "condition of the house                   0\n",
              "grade of the house                       0\n",
              "Area of the house(excluding basement)    0\n",
              "Area of the basement                     0\n",
              "Built Year                               0\n",
              "Renovation Year                          0\n",
              "Postal Code                              0\n",
              "Lattitude                                0\n",
              "Longitude                                0\n",
              "living_area_renov                        0\n",
              "lot_area_renov                           0\n",
              "Number of schools nearby                 0\n",
              "Distance from the airport                0\n",
              "Price                                    0\n",
              "dtype: int64"
            ]
          },
          "execution_count": 27,
          "metadata": {},
          "output_type": "execute_result"
        }
      ],
      "source": [
        "d.isnull().sum()"
      ]
    },
    {
      "cell_type": "code",
      "execution_count": null,
      "id": "3f4dddf8",
      "metadata": {
        "id": "3f4dddf8"
      },
      "outputs": [],
      "source": [
        "x=pd.DataFrame(d.iloc[:,2:22].values)\n",
        "y=d.iloc[:,22].values"
      ]
    },
    {
      "cell_type": "code",
      "execution_count": null,
      "id": "9233a7c4",
      "metadata": {
        "id": "9233a7c4"
      },
      "outputs": [],
      "source": [
        "from sklearn.model_selection import train_test_split"
      ]
    },
    {
      "cell_type": "code",
      "execution_count": null,
      "id": "035a17de",
      "metadata": {
        "id": "035a17de"
      },
      "outputs": [],
      "source": [
        "x_train,x_test,y_train,y_test=train_test_split(x,y,test_size=0.2,random_state=0)"
      ]
    },
    {
      "cell_type": "code",
      "execution_count": null,
      "id": "1f8d5a81",
      "metadata": {
        "id": "1f8d5a81"
      },
      "outputs": [],
      "source": [
        "from sklearn.preprocessing import StandardScaler  "
      ]
    },
    {
      "cell_type": "code",
      "execution_count": null,
      "id": "e7eaa974",
      "metadata": {
        "id": "e7eaa974"
      },
      "outputs": [],
      "source": [
        "sc = StandardScaler()"
      ]
    },
    {
      "cell_type": "code",
      "execution_count": null,
      "id": "08204316",
      "metadata": {
        "id": "08204316"
      },
      "outputs": [],
      "source": [
        "x_train=sc.fit_transform(x_train)\n",
        "x_test=sc.fit_transform(x_test)"
      ]
    },
    {
      "cell_type": "code",
      "execution_count": null,
      "id": "37bbf5f1",
      "metadata": {
        "id": "37bbf5f1"
      },
      "outputs": [],
      "source": [
        "#Build the ANN model\n",
        "\n",
        "import tensorflow as tf\n",
        "from tensorflow.keras.models import Sequential\n",
        "from tensorflow.keras.layers import Dense"
      ]
    },
    {
      "cell_type": "code",
      "execution_count": null,
      "id": "416fd58e",
      "metadata": {
        "id": "416fd58e"
      },
      "outputs": [],
      "source": [
        "classifier=Sequential()"
      ]
    },
    {
      "cell_type": "code",
      "execution_count": null,
      "id": "24f176b3",
      "metadata": {
        "id": "24f176b3"
      },
      "outputs": [],
      "source": [
        "#Input layer,Minimum of 2 Hidden layers,Output layer\n",
        "\n",
        "classifier.add(Dense(21,activation='relu'))\n",
        "classifier.add(Dense(12,activation='relu'))\n",
        "classifier.add(Dense(32,activation='relu'))\n",
        "classifier.add(Dense(1,activation='linear'))"
      ]
    },
    {
      "cell_type": "code",
      "execution_count": null,
      "id": "5d192717",
      "metadata": {
        "id": "5d192717"
      },
      "outputs": [],
      "source": [
        "classifier.compile(optimizer='adam',loss='mse',metrics=['mse'])"
      ]
    },
    {
      "cell_type": "code",
      "execution_count": null,
      "id": "1fe2b890",
      "metadata": {
        "id": "1fe2b890",
        "outputId": "c73e6ac4-b317-46dc-a79b-62d4e6a8f808"
      },
      "outputs": [
        {
          "name": "stdout",
          "output_type": "stream",
          "text": [
            "Epoch 1/25\n",
            "1170/1170 [==============================] - 4s 2ms/step - loss: 53892399104.0000 - mse: 53892399104.0000\n",
            "Epoch 2/25\n",
            "1170/1170 [==============================] - 2s 2ms/step - loss: 41460461568.0000 - mse: 41460461568.0000\n",
            "Epoch 3/25\n",
            "1170/1170 [==============================] - 2s 2ms/step - loss: 40766906368.0000 - mse: 40766906368.0000\n",
            "Epoch 4/25\n",
            "1170/1170 [==============================] - 2s 2ms/step - loss: 40268677120.0000 - mse: 40268677120.0000\n",
            "Epoch 5/25\n",
            "1170/1170 [==============================] - 2s 2ms/step - loss: 40116920320.0000 - mse: 40116920320.0000\n",
            "Epoch 6/25\n",
            "1170/1170 [==============================] - 2s 2ms/step - loss: 40183091200.0000 - mse: 40183091200.0000\n",
            "Epoch 7/25\n",
            "1170/1170 [==============================] - 2s 2ms/step - loss: 40090021888.0000 - mse: 40090021888.0000\n",
            "Epoch 8/25\n",
            "1170/1170 [==============================] - 2s 2ms/step - loss: 39842746368.0000 - mse: 39842746368.0000\n",
            "Epoch 9/25\n",
            "1170/1170 [==============================] - 2s 2ms/step - loss: 39853350912.0000 - mse: 39853350912.0000\n",
            "Epoch 10/25\n",
            "1170/1170 [==============================] - 2s 2ms/step - loss: 39423852544.0000 - mse: 39423852544.0000\n",
            "Epoch 11/25\n",
            "1170/1170 [==============================] - 2s 2ms/step - loss: 39734628352.0000 - mse: 39734628352.0000\n",
            "Epoch 12/25\n",
            "1170/1170 [==============================] - 2s 2ms/step - loss: 39616487424.0000 - mse: 39616487424.0000\n",
            "Epoch 13/25\n",
            "1170/1170 [==============================] - 2s 2ms/step - loss: 39592300544.0000 - mse: 39592300544.0000\n",
            "Epoch 14/25\n",
            "1170/1170 [==============================] - 2s 2ms/step - loss: 39450054656.0000 - mse: 39450054656.0000\n",
            "Epoch 15/25\n",
            "1170/1170 [==============================] - 2s 2ms/step - loss: 39126269952.0000 - mse: 39126269952.0000\n",
            "Epoch 16/25\n",
            "1170/1170 [==============================] - 2s 2ms/step - loss: 39173971968.0000 - mse: 39173971968.0000\n",
            "Epoch 17/25\n",
            "1170/1170 [==============================] - 2s 2ms/step - loss: 39325024256.0000 - mse: 39325024256.0000\n",
            "Epoch 18/25\n",
            "1170/1170 [==============================] - 2s 2ms/step - loss: 38950256640.0000 - mse: 38950256640.0000\n",
            "Epoch 19/25\n",
            "1170/1170 [==============================] - 2s 2ms/step - loss: 38914035712.0000 - mse: 38914035712.0000\n",
            "Epoch 20/25\n",
            "1170/1170 [==============================] - 2s 2ms/step - loss: 38716186624.0000 - mse: 38716186624.0000\n",
            "Epoch 21/25\n",
            "1170/1170 [==============================] - 2s 2ms/step - loss: 38640128000.0000 - mse: 38640128000.0000\n",
            "Epoch 22/25\n",
            "1170/1170 [==============================] - 2s 2ms/step - loss: 38805987328.0000 - mse: 38805987328.0000\n",
            "Epoch 23/25\n",
            "1170/1170 [==============================] - 2s 2ms/step - loss: 38864674816.0000 - mse: 38864674816.0000\n",
            "Epoch 24/25\n",
            "1170/1170 [==============================] - 2s 2ms/step - loss: 38723637248.0000 - mse: 38723637248.0000\n",
            "Epoch 25/25\n",
            "1170/1170 [==============================] - 2s 2ms/step - loss: 38724571136.0000 - mse: 38724575232.0000\n"
          ]
        },
        {
          "data": {
            "text/plain": [
              "<keras.callbacks.History at 0x2bda71a11b0>"
            ]
          },
          "execution_count": 21,
          "metadata": {},
          "output_type": "execute_result"
        }
      ],
      "source": [
        "\n",
        "classifier.fit(x_train,y_train,batch_size=10,epochs=25)"
      ]
    },
    {
      "cell_type": "code",
      "execution_count": null,
      "id": "f454f800",
      "metadata": {
        "id": "f454f800",
        "outputId": "c7755fd3-4239-4b17-cb67-ee0705979279"
      },
      "outputs": [
        {
          "name": "stdout",
          "output_type": "stream",
          "text": [
            "92/92 [==============================] - 0s 1ms/step\n"
          ]
        }
      ],
      "source": [
        "#Test the model\n",
        "\n",
        "y_pred=classifier.predict(x_test)\n",
        "y_pred=(y_pred>0.5)"
      ]
    }
  ],
  "metadata": {
    "kernelspec": {
      "display_name": "Python 3 (ipykernel)",
      "language": "python",
      "name": "python3"
    },
    "language_info": {
      "codemirror_mode": {
        "name": "ipython",
        "version": 3
      },
      "file_extension": ".py",
      "mimetype": "text/x-python",
      "name": "python",
      "nbconvert_exporter": "python",
      "pygments_lexer": "ipython3",
      "version": "3.10.9"
    },
    "colab": {
      "provenance": []
    }
  },
  "nbformat": 4,
  "nbformat_minor": 5
}