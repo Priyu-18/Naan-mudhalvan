{
  "nbformat": 4,
  "nbformat_minor": 0,
  "metadata": {
    "colab": {
      "provenance": []
    },
    "kernelspec": {
      "name": "python3",
      "display_name": "Python 3"
    },
    "language_info": {
      "name": "python"
    }
  },
  "cells": [
    {
      "cell_type": "markdown",
      "source": [
        "# **NAAN MUDHALVAN**\n",
        "\n",
        "REGISTER NO - 311020243050\n",
        "\n",
        "NAME - SWETHA M\n",
        "\n",
        "KCG COLLEGE OF TECHNOLOGY"
      ],
      "metadata": {
        "id": "cPF0DsNedeNs"
      }
    },
    {
      "cell_type": "markdown",
      "source": [
        "Augmentation"
      ],
      "metadata": {
        "id": "KccvBbHqKG6o"
      }
    },
    {
      "cell_type": "code",
      "source": [
        "data_aug = ImageDataGenerator(\n",
        "    rescale =1./255,\n",
        "    rotation_range=20,\n",
        "    width_shift_range=0.2,\n",
        "    height_shift_range=0.2,\n",
        "    shear_range=0.2,\n",
        "    zoom_range=0.2,\n",
        "    horizontal_flip=True,\n",
        "    fill_mode='nearest'\n",
        ")     "
      ],
      "metadata": {
        "id": "N2QZD4rbzZS8"
      },
      "execution_count": null,
      "outputs": []
    },
    {
      "cell_type": "code",
      "source": [
        "train_data=data_aug.flow_from_directory('/content/drive/MyDrive/animals',target_size=(128,128),batch_size=32,class_mode='categorical')"
      ],
      "metadata": {
        "colab": {
          "base_uri": "https://localhost:8080/"
        },
        "id": "yYGieyIf1P3W",
        "outputId": "c2c36e6f-cbf2-4abc-ab8c-91ba234094be"
      },
      "execution_count": null,
      "outputs": [
        {
          "output_type": "stream",
          "name": "stdout",
          "text": [
            "Found 2362 images belonging to 90 classes.\n"
          ]
        }
      ]
    },
    {
      "cell_type": "markdown",
      "source": [
        "CNN"
      ],
      "metadata": {
        "id": "1Rt1UPg2KCqn"
      }
    },
    {
      "cell_type": "code",
      "source": [
        "model=tf.keras.models.Sequential([tf.keras.layers.Input(shape=(128,128,3)),\n",
        "                                  tf.keras.layers.Conv2D(64,(3,3),activation='relu'),\n",
        "                                  tf.keras.layers.MaxPooling2D((2,2)),\n",
        "                                  tf.keras.layers.Flatten(),\n",
        "                                  tf.keras.layers.Dense(64,activation='relu'),\n",
        "                                  tf.keras.layers.Dense(32,activation='relu'),\n",
        "                                  tf.keras.layers.Dense(90,activation='softmax')])"
      ],
      "metadata": {
        "id": "nER4u7rhIChg"
      },
      "execution_count": null,
      "outputs": []
    },
    {
      "cell_type": "code",
      "source": [
        "model.compile(optimizer='adam',loss='categorical_crossentropy',metrics=['accuracy'])"
      ],
      "metadata": {
        "id": "MQ6Fa3HYJ-jU"
      },
      "execution_count": null,
      "outputs": []
    },
    {
      "cell_type": "code",
      "source": [
        "model.fit(train_data,epochs=4)"
      ],
      "metadata": {
        "colab": {
          "base_uri": "https://localhost:8080/"
        },
        "id": "nocn4RNGKyIl",
        "outputId": "702fb47b-9614-4f72-e3a3-6b6412ada7c5"
      },
      "execution_count": null,
      "outputs": [
        {
          "output_type": "stream",
          "name": "stdout",
          "text": [
            "Epoch 1/4\n",
            "74/74 [==============================] - 243s 3s/step - loss: 4.5379 - accuracy: 0.0279\n",
            "Epoch 2/4\n",
            "74/74 [==============================] - 154s 2s/step - loss: 4.0296 - accuracy: 0.0635\n",
            "Epoch 3/4\n",
            "74/74 [==============================] - 135s 2s/step - loss: 3.7140 - accuracy: 0.0821\n",
            "Epoch 4/4\n",
            "74/74 [==============================] - 130s 2s/step - loss: 3.5738 - accuracy: 0.0953\n"
          ]
        },
        {
          "output_type": "execute_result",
          "data": {
            "text/plain": [
              "<keras.callbacks.History at 0x7ff70c0a6730>"
            ]
          },
          "metadata": {},
          "execution_count": 7
        }
      ]
    },
    {
      "cell_type": "code",
      "source": [
        "val_data=ImageDataGenerator(rescale=1./255)\n",
        "val_generator=val_data.flow_from_directory('/content/drive/MyDrive/animals',target_size=(128,128),batch_size=32,class_mode='categorical')"
      ],
      "metadata": {
        "colab": {
          "base_uri": "https://localhost:8080/"
        },
        "id": "uOsakoEQLRXe",
        "outputId": "96d95bbd-2a2c-4291-c703-ac07d9e956fe"
      },
      "execution_count": null,
      "outputs": [
        {
          "output_type": "stream",
          "name": "stdout",
          "text": [
            "Found 2362 images belonging to 90 classes.\n"
          ]
        }
      ]
    },
    {
      "cell_type": "code",
      "source": [
        "model.evaluate(val_generator)"
      ],
      "metadata": {
        "colab": {
          "base_uri": "https://localhost:8080/"
        },
        "id": "aich6OYLN8mQ",
        "outputId": "82461eb5-535b-4b4f-967f-a981137cba2d"
      },
      "execution_count": null,
      "outputs": [
        {
          "output_type": "stream",
          "name": "stdout",
          "text": [
            "74/74 [==============================] - 65s 867ms/step - loss: 3.4763 - accuracy: 0.1190\n"
          ]
        },
        {
          "output_type": "execute_result",
          "data": {
            "text/plain": [
              "[3.4762630462646484, 0.1189669743180275]"
            ]
          },
          "metadata": {},
          "execution_count": 9
        }
      ]
    }
  ]
}